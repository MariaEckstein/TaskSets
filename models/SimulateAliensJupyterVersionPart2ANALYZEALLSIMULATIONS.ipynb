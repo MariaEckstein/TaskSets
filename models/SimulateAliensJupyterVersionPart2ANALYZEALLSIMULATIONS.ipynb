{
 "cells": [
  {
   "cell_type": "markdown",
   "metadata": {},
   "source": [
    "# Set-up"
   ]
  },
  {
   "cell_type": "markdown",
   "metadata": {},
   "source": [
    "## Imports"
   ]
  },
  {
   "cell_type": "code",
   "execution_count": 1,
   "metadata": {},
   "outputs": [],
   "source": [
    "%load_ext autoreload\n",
    "%autoreload 2\n",
    "\n",
    "import datetime\n",
    "import glob\n",
    "import ipdb\n",
    "import matplotlib.pyplot as plt\n",
    "plt.style.use('seaborn-colorblind')  # https://matplotlib.org/users/style_sheets.html\n",
    "from mpl_toolkits.mplot3d import Axes3D\n",
    "import numpy as np\n",
    "import os\n",
    "import pandas as pd\n",
    "from pandas.plotting import scatter_matrix\n",
    "import plotnine as gg\n",
    "gg.theme_set(gg.theme_bw)\n",
    "from scipy import stats\n",
    "from sklearn import manifold, decomposition, preprocessing\n",
    "import seaborn as sns\n",
    "import time\n",
    "\n",
    "from AlienTask import Task\n",
    "from shared_aliens import get_alien_paths, read_in_human_data\n",
    "# update_Qs_sim, get_alien_paths, get_alien_initial_q,\\\n",
    "#     get_summary_initial_learn, get_summary_cloudy, simulate_competition_phase, simulate_rainbow_phase, get_summary_rainbow,\\\n",
    "#     read_in_human_data, get_chosen_TS\n",
    "from SimulateAliensJupyterVersionFunctions import *"
   ]
  },
  {
   "cell_type": "markdown",
   "metadata": {},
   "source": [
    "## Paths"
   ]
  },
  {
   "cell_type": "code",
   "execution_count": 2,
   "metadata": {},
   "outputs": [],
   "source": [
    "# Data paths\n",
    "## Where is human experimental data stored?\n",
    "human_data_path = get_alien_paths()[\"human data prepr\"]\n",
    "\n",
    "## Where will simulated summaries be saved or read in?\n",
    "summary_save_dir = os.path.join(get_alien_paths()['fitting results'], 'Summaries')\n",
    "full_summary_save_dir = os.path.join(summary_save_dir, 'FullSimulations')\n",
    "\n",
    "## Where will plots be saved that we create here?\n",
    "plot_save_dir = os.path.join(summary_save_dir, 'plots')  # 'C:/Users/maria/MEGAsync/Berkeley/TaskSets/paperplots/'"
   ]
  },
  {
   "cell_type": "markdown",
   "metadata": {},
   "source": [
    "## Initialize task object"
   ]
  },
  {
   "cell_type": "code",
   "execution_count": 3,
   "metadata": {},
   "outputs": [],
   "source": [
    "# Create task, get numbers of trials for each phase\n",
    "task = Task(n_subj)\n",
    "n_trials, _, _, _, _ = task.get_trial_sequence(get_alien_paths()[\"human data prepr\"],\n",
    "                                         n_subj, n_sim_per_subj, range(n_subj),\n",
    "                                         phases=(\"1InitialLearning\", \"2CloudySeason\"))\n",
    "\n",
    "n_trials_ = {'1InitialLearn': np.sum(task.phase == '1InitialLearning'),\n",
    "             '2CloudySeason': np.sum(task.phase == '2CloudySeason'),\n",
    "             '4RainbowSeason': 4 * n_aliens,\n",
    "             '5Competition': 3}\n",
    "\n",
    "trials = {'1InitialLearn': range(n_trials_['1InitialLearn']),\n",
    "          '2CloudySeason': range(n_trials_['1InitialLearn'],\n",
    "                                 n_trials_['1InitialLearn'] + n_trials_['2CloudySeason'])}"
   ]
  },
  {
   "cell_type": "markdown",
   "metadata": {},
   "source": [
    "# Analyze all simulations: Density plots"
   ]
  },
  {
   "cell_type": "markdown",
   "metadata": {},
   "source": [
    "## Read in human data"
   ]
  },
  {
   "cell_type": "code",
   "execution_count": 4,
   "metadata": {
    "scrolled": true
   },
   "outputs": [
    {
     "name": "stdout",
     "output_type": "stream",
     "text": [
      "Reading in human data from C:/Users/maria/MEGAsync/Berkeley/TaskSets/Data/version3.1preprocessed/!\n",
      "1 subjects were exlcuded: ['160']\n"
     ]
    },
    {
     "name": "stderr",
     "output_type": "stream",
     "text": [
      "C:\\Users\\maria\\Anaconda3\\envs\\PYMC3\\lib\\site-packages\\pandas\\core\\indexing.py:376: SettingWithCopyWarning: \n",
      "A value is trying to be set on a copy of a slice from a DataFrame.\n",
      "Try using .loc[row_indexer,col_indexer] = value instead\n",
      "\n",
      "See the caveats in the documentation: http://pandas.pydata.org/pandas-docs/stable/user_guide/indexing.html#returning-a-view-versus-a-copy\n",
      "  self.obj[key] = _infer_fill_value(value)\n",
      "C:\\Users\\maria\\Anaconda3\\envs\\PYMC3\\lib\\site-packages\\pandas\\core\\indexing.py:494: SettingWithCopyWarning: \n",
      "A value is trying to be set on a copy of a slice from a DataFrame.\n",
      "Try using .loc[row_indexer,col_indexer] = value instead\n",
      "\n",
      "See the caveats in the documentation: http://pandas.pydata.org/pandas-docs/stable/user_guide/indexing.html#returning-a-view-versus-a-copy\n",
      "  self.obj[item] = s\n"
     ]
    }
   ],
   "source": [
    "# Get human raw data\n",
    "n_hum, hum_aliens, hum_seasons, hum_corrects, hum_actions, hum_rewards, hum_rainbow_dat, hum_comp_dat = read_in_human_data(\n",
    "    human_data_path, 828, n_aliens, n_actions, exclude=['160',])  # '164' -> already excluded for head trauma\n",
    "\n",
    "# Calculate human summaries\n",
    "(hum_summary_initial_learn, hum_summary_cloudy, hum_summary_competition,\n",
    "hum_summary_rainbow, hum_regr_coefs) = get_human_summaries(\n",
    "    n_hum, hum_aliens, hum_seasons, hum_corrects, hum_actions,\n",
    "    hum_rewards, hum_rainbow_dat, hum_comp_dat, trials, task, n_seasons)"
   ]
  },
  {
   "cell_type": "markdown",
   "metadata": {},
   "source": [
    "## Read in simulated data"
   ]
  },
  {
   "cell_type": "code",
   "execution_count": 5,
   "metadata": {},
   "outputs": [
    {
     "name": "stdout",
     "output_type": "stream",
     "text": [
      "Found 151 files.\n",
      "Number of samples: 150001 (flat: 50000; hier: 50000; Bayes: 50001)\n"
     ]
    }
   ],
   "source": [
    "# Read in all csv with summaries\n",
    "filenames = glob.glob(os.path.join(summary_save_dir, '*.csv'))\n",
    "filenames = [filename for filename in filenames if 'summar' in filename]  # don't read in selected_agents.csv etc.\n",
    "print('Found {} files.'.format(len(filenames)))\n",
    "\n",
    "all_summaries = read_in_all_summaries(filenames)\n",
    "print(\"Number of samples: {} (flat: {}; hier: {}; Bayes: {})\".\n",
    "      format(all_summaries.shape[0],\n",
    "             np.sum(all_summaries['model'] == 'flat'),\n",
    "             np.sum(all_summaries['model'] == 'hier'),\n",
    "             np.sum(all_summaries['model'] == 'Bayes')\n",
    "))"
   ]
  },
  {
   "cell_type": "code",
   "execution_count": null,
   "metadata": {},
   "outputs": [],
   "source": [
    "# Get rainbow summary\n",
    "summary_rainbow = pd.DataFrame()\n",
    "for model in models:\n",
    "    rainbow_dat = all_summaries.loc[all_summaries['model'] == model, RB_cols]\n",
    "    rainbow_dat = rainbow_dat.values.reshape((rainbow_dat.shape[0], n_aliens, n_actions))\n",
    "    \n",
    "    summary_rainbow_mod = np.array([get_summary_rainbow(n_aliens, n_seasons, dat, task) for dat in rainbow_dat])\n",
    "    summary_rainbow_mod = pd.DataFrame(summary_rainbow_mod, columns=RB_sum_cols)\n",
    "    summary_rainbow_mod.loc[:, 'model'] = model\n",
    "    \n",
    "    cor = np.array([np.corrcoef(hum_rainbow_dat[0].flatten(), dat.flatten())[0, 1] for dat in rainbow_dat.astype(float)])\n",
    "    summary_rainbow_mod.loc[:, 'corr_with_humans'] = cor\n",
    "    \n",
    "    summary_rainbow = summary_rainbow.append(summary_rainbow_mod)\n",
    "    \n",
    "summary_rainbow['TS0_minus_TS1'] = summary_rainbow['TS0'] - summary_rainbow['TS1']\n",
    "summary_rainbow['TS0_minus_TS2'] = summary_rainbow['TS0'] - summary_rainbow['TS2']\n",
    "summary_rainbow['TS1_minus_TS2'] = summary_rainbow['TS1'] - summary_rainbow['TS2']\n",
    "summary_rainbow.head()"
   ]
  },
  {
   "cell_type": "markdown",
   "metadata": {},
   "source": [
    "## Plot simulated parameters"
   ]
  },
  {
   "cell_type": "code",
   "execution_count": null,
   "metadata": {
    "scrolled": true
   },
   "outputs": [],
   "source": [
    "# # Plot correlations and histograms\n",
    "# for model_name in models:\n",
    "#     model_summaries = all_summaries.loc[all_summaries['model'] == model_name]\n",
    "#     model_summaries = model_summaries.reset_index(drop=True)\n",
    "#     pd.plotting.scatter_matrix(model_summaries.loc[:1000, ['alpha', 'beta', 'forget']])"
   ]
  },
  {
   "cell_type": "markdown",
   "metadata": {},
   "source": [
    "## Plot histograms"
   ]
  },
  {
   "cell_type": "markdown",
   "metadata": {},
   "source": [
    "### Functions"
   ]
  },
  {
   "cell_type": "code",
   "execution_count": null,
   "metadata": {},
   "outputs": [],
   "source": [
    "def get_means_sds(sim_dat, hum_dat, column, t_compare_value=0):\n",
    "    \n",
    "    means_sds = sim_dat.groupby(\"model\")[column].agg(\n",
    "        {'mean': 'mean',\n",
    "         'std': 'std',\n",
    "         'lik': lambda x: np.mean(x > hum_dat[column][0]),\n",
    "         'lik2': lambda x: np.mean(x < hum_dat[column][0])})\n",
    "    \n",
    "    ttests = sim_dat.groupby('model')[column].agg(stats.ttest_1samp, t_compare_value)\n",
    "    \n",
    "    return means_sds, ttests"
   ]
  },
  {
   "cell_type": "code",
   "execution_count": null,
   "metadata": {
    "scrolled": true
   },
   "outputs": [],
   "source": [
    "def get_difference_data(dat1, dat2, n_bins=50):\n",
    "    \n",
    "    dat_both = np.append(dat1, dat2)\n",
    "    \n",
    "    min_bin, max_bin = min(dat_both), max(dat_both)\n",
    "    \n",
    "    hist1, bins1 = np.histogram(dat1, range=(min_bin, max_bin), bins=n_bins)\n",
    "    hist2, bins2 = np.histogram(dat2, range=(min_bin, max_bin), bins=n_bins)\n",
    "    assert np.all(bins1 == bins2)\n",
    "    \n",
    "    diff = hist2 - hist1\n",
    "    \n",
    "    diff_dat = pd.DataFrame({'diff': diff,\n",
    "                             'bin': bins1[:-1]})\n",
    "\n",
    "    return diff_dat\n",
    "\n",
    "# Example usage\n",
    "nbins = 50\n",
    "phase = '1InitialLearn'\n",
    "\n",
    "dat_flat = all_summaries.loc[all_summaries.model=='flat', 'Qts_{}_mean'.format(phase)].values\n",
    "dat_hier = all_summaries.loc[all_summaries.model=='hier', 'Qts_{}_mean'.format(phase)].values\n",
    "\n",
    "get_difference_data(dat_flat, dat_hier)"
   ]
  },
  {
   "cell_type": "code",
   "execution_count": null,
   "metadata": {},
   "outputs": [],
   "source": [
    "# Reusable histogram function for all histogram plots\n",
    "def make_histogram(sim_dat, hum_dat, col_name, figure_size=(6, 2),\n",
    "                   xlim=None, ylim=None, vline=0, plot_name='test.png'):\n",
    "    \n",
    "    gg.options.figure_size = figure_size\n",
    "    g = (gg.ggplot(sim_dat, gg.aes(col_name, color='model'))\n",
    "     + gg.geom_density()\n",
    "     + gg.xlab(col_name)\n",
    "     + gg.scale_color_manual(['green', 'orange', 'blue'])\n",
    "     + gg.geom_vline(xintercept=hum_dat[col_name], color='red')\n",
    "     + gg.geom_vline(xintercept=vline, linetype='dotted')\n",
    "     + gg.coord_cartesian(xlim=xlim, ylim=ylim)\n",
    "    )\n",
    "    save_path = os.path.join(plot_save_dir, plot_name)\n",
    "    print(\"Saving to {}.\".format(save_path))\n",
    "    g.draw()\n",
    "    g.save(save_path)\n",
    "\n",
    "# Example use\n",
    "plot_name_base = '0TS_react_hist'\n",
    "# make_histogram(all_summaries, hum_summary_cloudy, CL_cols[8], xlim=(-0.1, 0.25))"
   ]
  },
  {
   "cell_type": "code",
   "execution_count": null,
   "metadata": {
    "scrolled": true
   },
   "outputs": [],
   "source": [
    "def make_diff_hist(sim_dat, hum_dat, col_name, model_names, figure_size = (4, 3),\n",
    "                   plot_name='test.png', n_bins=40, vline=0, xlim=None, ylim=None):\n",
    "\n",
    "    all_diff_dat = pd.DataFrame()\n",
    "\n",
    "    for model1_name, model2_name in model_names:\n",
    "        dat1 = sim_dat.loc[sim_dat.model==model1_name, col_name].values\n",
    "        dat2 = sim_dat.loc[sim_dat.model==model2_name, col_name].values\n",
    "\n",
    "        diff_dat = get_difference_data(dat1, dat2, n_bins=n_bins)\n",
    "        diff_dat['measure'] = col_name\n",
    "        diff_dat['models'] = ' minus '.join([model2_name, model1_name])\n",
    "\n",
    "        all_diff_dat = all_diff_dat.append(diff_dat)\n",
    "\n",
    "    gg.options.figure_size = figure_size\n",
    "    g = (gg.ggplot(all_diff_dat, gg.aes('bin', 'diff', color='models'))\n",
    "     + gg.geom_line()\n",
    "     + gg.xlab(col_name)\n",
    "     + gg.ylab('Difference (# samples)')\n",
    "     + gg.scale_color_manual(['green', 'orange'])\n",
    "     + gg.geom_vline(xintercept=hum_dat[col_name], color='red')\n",
    "     + gg.geom_vline(xintercept=vline, linetype='dotted')\n",
    "     + gg.coord_cartesian(xlim=xlim, ylim=ylim)\n",
    "    )\n",
    "    save_path = os.path.join(plot_save_dir, plot_name)\n",
    "    print(\"Saving to {}.\".format(save_path))\n",
    "    g.draw()\n",
    "    g.save(save_path)\n",
    "    \n",
    "# Example use\n",
    "model_names = [['flat', 'hier'], ['Bayes', 'hier']]\n",
    "col_name = 'Qts_1InitialLearn_mean'\n",
    "# make_diff_hist(all_summaries, hum_regr_coefs, col_name, model_names, xlim=(-0.3, 0.3))"
   ]
  },
  {
   "cell_type": "markdown",
   "metadata": {},
   "source": [
    "### Make the histograms"
   ]
  },
  {
   "cell_type": "code",
   "execution_count": null,
   "metadata": {
    "scrolled": true
   },
   "outputs": [],
   "source": [
    "# Which TS are used initially (first four trials, initial learning phase)?\n",
    "plot_name_base = '2TS_values_regression'\n",
    "\n",
    "for phase in ['1InitialLearn',]:  #, '2CloudySeason']:\n",
    "    cols = ['Qts_{}_mean'.format(phase), 'Qa_{}_mean'.format(phase)]\n",
    "\n",
    "    for colname in cols:\n",
    "        xlim = (-0.1, 0.25)\n",
    "        make_histogram(all_summaries, hum_regr_coefs,\n",
    "                       colname, xlim=xlim, ylim=(0, 15),\n",
    "                       plot_name='{}_{}_hist.png'.format(plot_name_base, colname))\n",
    "\n",
    "#         make_diff_hist(all_summaries, hum_regr_coefs, colname, model_names, xlim=xlim,\n",
    "#                        plot_name='{}_{}_diff.png'.format(plot_name_base, colname))"
   ]
  },
  {
   "cell_type": "code",
   "execution_count": null,
   "metadata": {
    "scrolled": true
   },
   "outputs": [],
   "source": [
    "# Reactivation of TS (cloudy)\n",
    "plot_name_base = '0TS_react_hist'\n",
    "\n",
    "for colname in [CL_cols[8]]:  # CL_cols[8:] + ['CL_slope_TS1minusTS2', 'CL_slope_TS0minusTS2', 'CL_slope_TS0minusTS1']:\n",
    "    xlim = (-0.2, 0.4)\n",
    "    make_histogram(all_summaries, hum_summary_cloudy, colname,\n",
    "                   plot_name='{}_{}_hist.png'.format(plot_name_base, colname),\n",
    "                   xlim=xlim)\n",
    "\n",
    "#     make_diff_hist(all_summaries, hum_summary_cloudy, colname, model_names, n_bins=18,\n",
    "#                    plot_name='{}_{}_diff.png'.format(plot_name_base, colname),\n",
    "#                    xlim=xlim)\n",
    "    \n",
    "print(get_means_sds(all_summaries, hum_summary_cloudy, 'CL_slope'))\n",
    "# print(get_means_sds(all_summaries, hum_summary_cloudy, 'CL_slope_TS1minusTS2'))\n",
    "# print(get_means_sds(all_summaries, hum_summary_cloudy, 'CL_slope_TS0minusTS2'))\n",
    "# print(get_means_sds(all_summaries, hum_summary_cloudy, 'CL_slope_TS0minusTS1'))"
   ]
  },
  {
   "cell_type": "code",
   "execution_count": null,
   "metadata": {
    "scrolled": true
   },
   "outputs": [],
   "source": [
    "# Intrusion errors (init. learn.)\n",
    "plot_name_base = '1intrusion_errors_hist'\n",
    "\n",
    "for colname in IL_cols[3:5]:\n",
    "    xlim = (0.2, 0.5)\n",
    "    make_histogram(all_summaries, hum_summary_initial_learn, colname,\n",
    "                   plot_name='{}_{}_hist.png'.format(plot_name_base, colname),\n",
    "                   xlim=xlim, ylim=(0, 11.5), vline=1/3)\n",
    "\n",
    "    make_diff_hist(all_summaries, hum_summary_initial_learn, colname, model_names, n_bins=20,\n",
    "                   plot_name='{}_{}_diff.png'.format(plot_name_base, colname),\n",
    "                   xlim=xlim, vline=1/3)\n",
    "\n",
    "print(get_means_sds(all_summaries, hum_summary_initial_learn, IL_cols[3], 1/3))\n",
    "print(get_means_sds(all_summaries, hum_summary_initial_learn, IL_cols[4], 1/3))"
   ]
  },
  {
   "cell_type": "code",
   "execution_count": null,
   "metadata": {
    "scrolled": true
   },
   "outputs": [],
   "source": [
    "# TS values affect preference (competition)\n",
    "plot_name_base = '3TS_values_preference_hist'\n",
    "\n",
    "sub_dat = all_summaries.loc[all_summaries['model'] != 'Bayes']  # Remove Bayes for this analysis\n",
    "\n",
    "# for colname in CO_cols[:2]:\n",
    "#     xlim = (0.45, 0.7)\n",
    "#     make_histogram(sub_dat, hum_summary_competition, colname,\n",
    "#                    plot_name='{}_{}_hist.png'.format(plot_name_base, colname),\n",
    "#                    xlim=xlim, vline=1/2)\n",
    "    \n",
    "#     make_diff_hist(sub_dat, hum_summary_competition, colname, model_names,\n",
    "#                    plot_name='{}_{}_diff.png'.format(plot_name_base, colname),\n",
    "#                    xlim=xlim, vline=1/2)\n",
    "\n",
    "# colname = 'CO_season_minus_alien'\n",
    "# xlim = (-0.1, 0.1)\n",
    "# make_histogram(sub_dat, hum_summary_competition, colname,\n",
    "#                plot_name='{}_{}_hist.png'.format(plot_name_base, colname),\n",
    "#                xlim=xlim)\n",
    "\n",
    "# make_diff_hist(sub_dat, hum_summary_competition, colname, [model_names[0],],\n",
    "#                plot_name='{}_{}_diff.png'.format(plot_name_base, col_name),\n",
    "#                xlim=xlim)\n",
    "\n",
    "print(get_means_sds(all_summaries, hum_summary_competition, 'CO_acc_season'))\n",
    "print(get_means_sds(all_summaries, hum_summary_competition, 'CO_acc_season_alien'))\n",
    "print(get_means_sds(all_summaries, hum_summary_competition, 'CO_season_minus_alien'))"
   ]
  },
  {
   "cell_type": "code",
   "execution_count": null,
   "metadata": {
    "scrolled": true
   },
   "outputs": [],
   "source": [
    "# TS values affect generalization (rainbow)\n",
    "plot_name_base = '2TS_rainbow'\n",
    "\n",
    "for colname in ['TS0_minus_TS2']:  #, 'TS0_minus_TS1', 'TS1_minus_TS2']:\n",
    "    xlim = (-0.02, 0.15)\n",
    "    make_histogram(summary_rainbow, hum_summary_rainbow, colname,\n",
    "                   plot_name='{}_{}_hist.png'.format(plot_name_base, colname),\n",
    "                   xlim=xlim, ylim=(0, 30))\n",
    "\n",
    "#     make_diff_hist(summary_rainbow, hum_summary_rainbow, colname, model_names,\n",
    "#                    plot_name='{}_{}_diff.png'.format(plot_name_base, colname), xlim=xlim)\n",
    "    \n",
    "colname = 'None'\n",
    "make_histogram(summary_rainbow, hum_summary_rainbow, colname,\n",
    "               plot_name='{}_{}_hist.png'.format(plot_name_base, colname),\n",
    "               xlim=(0.08, 0.164), ylim=(0, 70))\n",
    "    \n",
    "print(get_means_sds(summary_rainbow, hum_summary_rainbow, 'None'))\n",
    "print(get_means_sds(summary_rainbow, hum_summary_rainbow, 'TS0_minus_TS2'))\n",
    "# print(get_means_sds(summary_rainbow, hum_summary_rainbow, 'TS0_minus_TS1'))\n",
    "# print(get_means_sds(summary_rainbow, hum_summary_rainbow, 'TS1_minus_TS2'))"
   ]
  },
  {
   "cell_type": "code",
   "execution_count": null,
   "metadata": {},
   "outputs": [],
   "source": [
    "plot_name_base = '4TS_values'\n",
    "for colname in ['IL_first_TS0_minus_TS2', 'IL_first_TS0_minus_TS1', 'IL_first_TS1_minus_TS2']:\n",
    "    xlim = (-0.01, 0.15)\n",
    "    make_histogram(all_summaries, hum_summary_initial_learn, colname,\n",
    "                   plot_name='{}_{}_hist.png'.format(plot_name_base, colname),\n",
    "                   xlim=xlim)\n",
    "    \n",
    "    make_diff_hist(all_summaries, hum_summary_initial_learn, colname, model_names, n_bins=15,\n",
    "                   plot_name='{}_{}_diff.png'.format(plot_name_base, colname),\n",
    "                   xlim=xlim)"
   ]
  },
  {
   "cell_type": "code",
   "execution_count": null,
   "metadata": {
    "scrolled": true
   },
   "outputs": [],
   "source": [
    "plot_name_base = '5TS_values'\n",
    "for colname in ['CL_first_TS0_minus_TS2', 'CL_first_TS0_minus_TS1', 'CL_first_TS1_minus_TS2']:\n",
    "    xlim = (-0.01, 0.15)\n",
    "    make_histogram(all_summaries, hum_summary_cloudy, colname,\n",
    "                   plot_name='{}_{}_hist.png'.format(plot_name_base, colname),\n",
    "                   xlim=xlim)\n",
    "    \n",
    "    make_diff_hist(all_summaries, hum_summary_cloudy, colname, model_names, n_bins=15,\n",
    "                   plot_name='{}_{}_diff.png'.format(plot_name_base, colname),\n",
    "                   xlim=xlim)"
   ]
  },
  {
   "cell_type": "code",
   "execution_count": null,
   "metadata": {
    "scrolled": true
   },
   "outputs": [],
   "source": [
    "# TS values affect generalization (rainbow)\n",
    "fig, axes = plt.subplots(nrows=len(models), figsize=(8, 8))\n",
    "colors = sns.cubehelix_palette(4, start=.5, rot=-.75, reverse=True)[:-1]\n",
    "\n",
    "for i, model in enumerate(models):\n",
    "    dat = summary_rainbow.loc[summary_rainbow['model'] == model]\n",
    "\n",
    "    # Plot\n",
    "    for j, effect in enumerate(RB_sum_cols[:3]):\n",
    "        sns.distplot(dat[effect], kde=True, hist=False, label=effect, color=colors[j], ax=axes[i])\n",
    "        [ax.axvline(x=10/12/3, color='grey', linestyle='--') for ax in axes[:2]]\n",
    "        [ax.set_xlim(0, 0.5) for ax in axes[:2]]\n",
    "        [ax.set_ylim(0, 100) for ax in axes[:2]]\n",
    "        axes[i].set_title(model)\n",
    "        [ax.set_xlabel(\"\") for ax in axes]\n",
    "        axes[i].legend()\n",
    "\n",
    "[ax.set_ylabel(\"Density\") for ax in axes]\n",
    "plt.tight_layout()\n",
    "plt.savefig(plot_save_dir + '/4TS_values_generalization_hist2.png')\n",
    "# get_means_sds(summary_rainbow, hum_summary_rainbow, 'TS0_minus_TS2')"
   ]
  },
  {
   "cell_type": "code",
   "execution_count": null,
   "metadata": {
    "scrolled": true
   },
   "outputs": [],
   "source": [
    "# Rainbow phase TS choices\n",
    "plt.figure()\n",
    "for model in models:\n",
    "\n",
    "    # Get summary_rainbow\n",
    "    rainbow_dat = all_summaries.loc[all_summaries['model'] == model, RB_cols]\n",
    "    rainbow_dat = rainbow_dat.values.reshape((rainbow_dat.shape[0], n_aliens, n_actions))\n",
    "    summary_rainbow = np.array([get_summary_rainbow(n_aliens, n_seasons, dat, task) for dat in rainbow_dat])\n",
    "    summary_rainbow = pd.DataFrame(summary_rainbow, columns=RB_sum_cols)\n",
    "    summary_rainbow['TS0_minus_TS2'] = summary_rainbow['TS0'] - summary_rainbow['TS2']\n",
    "\n",
    "    # Plot\n",
    "    for i, effect in enumerate(RB_sum_cols[:3]):\n",
    "        plt.subplot(2, 3, i+1)\n",
    "        sns.distplot(summary_rainbow[effect], kde=True, hist=True, label=model)\n",
    "        plt.axvline(x=10/12/3, color='grey', linestyle='--')\n",
    "        plt.axvline(x=hum_summary_rainbow[effect].values, color='red', linestyle='-')\n",
    "        plt.xlim(0, 0.5)\n",
    "        plt.ylim(0, 60)\n",
    "        plt.xlabel(effect)\n",
    "        plt.ylabel(\"Density\")\n",
    "\n",
    "    effect = RB_sum_cols[3]\n",
    "    plt.subplot(2, 3, 4)\n",
    "    sns.distplot(summary_rainbow[effect], kde=True, hist=True, label=model)\n",
    "    plt.axvline(x=(2/12), color='grey', linestyle='--')\n",
    "    plt.axvline(x=hum_summary_rainbow[effect].values, color='red', linestyle='-')\n",
    "    plt.xlim(0, 0.5)\n",
    "    plt.ylim(0, 60)\n",
    "    plt.xlabel(effect)\n",
    "    plt.ylabel(\"Density\")\n",
    "\n",
    "    effect = 'TS0_minus_TS2'\n",
    "    plt.subplot(2, 3, 5)\n",
    "    sns.distplot(summary_rainbow[effect], kde=True, hist=True, label=model)\n",
    "    plt.axvline(x=0, color='grey', linestyle='--')\n",
    "    plt.axvline(x=hum_summary_rainbow[effect].values, color='red', linestyle='-')\n",
    "    plt.xlim(-0.3, 0.3)\n",
    "    plt.ylim(0, 60)\n",
    "    plt.xlabel(effect)\n",
    "    plt.ylabel(\"Density\")\n",
    "\n",
    "plt.legend()\n",
    "plt.tight_layout()"
   ]
  },
  {
   "cell_type": "code",
   "execution_count": null,
   "metadata": {
    "scrolled": true
   },
   "outputs": [],
   "source": [
    "# Savings (init. learn.)\n",
    "make_histogram(all_summaries,\n",
    "               hum_summary_initial_learn, IL_cols[:3] + ['IL_saving_last_minus_first'],\n",
    "               plot_name='5Savings_hist.png')"
   ]
  },
  {
   "cell_type": "code",
   "execution_count": null,
   "metadata": {},
   "outputs": [],
   "source": [
    "# Plot paramter - marker correlations\n",
    "hum_sums = hum_summary_initial_learn[['IL_acc_prev_TS', 'IL_acc_current_TS']]\n",
    "hum_sums['CO_acc_season'] = hum_summary_competition['CO_acc_season']\n",
    "hum_sums['CO_acc_season_alien'] = hum_summary_competition['CO_acc_season_alien']\n",
    "hum_sums['CL_slope'] = hum_summary_cloudy['CL_slope']\n",
    "hum_sums['Qts_1InitialLearn_mean'] = hum_regr_coefs['Qts_1InitialLearn_mean']\n",
    "hum_sums['Qa_1InitialLearn_mean'] = hum_regr_coefs['Qa_1InitialLearn_mean']\n",
    "\n",
    "markers = ['IL_acc_current_TS', 'IL_acc_prev_TS', 'CO_acc_season', 'CO_acc_season_alien',\n",
    "           'CL_slope', 'Qts_1InitialLearn_mean', 'Qa_1InitialLearn_mean']\n",
    "\n",
    "for model_name in models:\n",
    "\n",
    "    # Get param_names\n",
    "    param_names, param_ranges = get_param_names_ranges(model_name)\n",
    "    \n",
    "    # Correlations between markers and parameters\n",
    "    dat = all_summaries.loc[all_summaries['model'] == model_name]\n",
    "    sns.pairplot(dat, x_vars=param_names, y_vars=markers, kind='reg',\n",
    "                 plot_kws={'color': 'grey', 'fit_reg': False, 'scatter_kws': {'s': 1}})\n",
    "    plt.savefig(os.path.join(plot_save_dir, 'CorrMarkerParam_{}.png'.format(model_name)))\n",
    "\n",
    "    # Correlations between different markers\n",
    "    sns.pairplot(dat, vars=markers, kind='reg',\n",
    "                 plot_kws={'color': 'grey', 'fit_reg': False, 'scatter_kws': {'s': 1}},\n",
    "                 diag_kind='kde', diag_kws={'color': 'grey', 'shade': True})\n",
    "\n",
    "    # Add human data\n",
    "    # plt.scatter(hum_sums)\n",
    "    plt.savefig(os.path.join(plot_save_dir, 'CorrParamParam_{}.png'.format(model)))"
   ]
  },
  {
   "cell_type": "code",
   "execution_count": null,
   "metadata": {},
   "outputs": [],
   "source": []
  }
 ],
 "metadata": {
  "kernelspec": {
   "display_name": "PYMC3",
   "language": "python",
   "name": "pymc3"
  },
  "language_info": {
   "codemirror_mode": {
    "name": "ipython",
    "version": 3
   },
   "file_extension": ".py",
   "mimetype": "text/x-python",
   "name": "python",
   "nbconvert_exporter": "python",
   "pygments_lexer": "ipython3",
   "version": "3.6.6"
  }
 },
 "nbformat": 4,
 "nbformat_minor": 2
}
